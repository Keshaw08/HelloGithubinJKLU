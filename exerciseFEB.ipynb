{
 "metadata": {
  "language_info": {
   "codemirror_mode": {
    "name": "ipython",
    "version": 3
   },
   "file_extension": ".py",
   "mimetype": "text/x-python",
   "name": "python",
   "nbconvert_exporter": "python",
   "pygments_lexer": "ipython3",
   "version": "3.8.5-final"
  },
  "orig_nbformat": 2,
  "kernelspec": {
   "name": "python3",
   "display_name": "Python 3",
   "language": "python"
  }
 },
 "nbformat": 4,
 "nbformat_minor": 2,
 "cells": [
  {
   "cell_type": "code",
   "execution_count": 7,
   "metadata": {},
   "outputs": [
    {
     "output_type": "stream",
     "name": "stdout",
     "text": [
      "c\nq\nq\n"
     ]
    }
   ],
   "source": [
    "listA = [\"Harry\",\"Ron\",\"Dobby\",\"Hulk\",\"Thor\"]\n",
    "\n",
    "for i in listA:\n",
    "    if(i[1] == \"a\" or i[1] == \"o\"):\n",
    "        z = ord(i[1])\n",
    "        n = z + 2\n",
    "        r = chr(n)\n",
    "        print(r)"
   ]
  },
  {
   "cell_type": "code",
   "execution_count": 8,
   "metadata": {},
   "outputs": [
    {
     "output_type": "stream",
     "name": "stdout",
     "text": [
      "['Iron man', 'Avengers 1-4']\n"
     ]
    }
   ],
   "source": [
    "movie_collc = {\"Action\":[\"FnF\",\"MI\",\"Terminator\"],\"Sci-Fi\":[\"Iron man\",\"Avengers 1-4\"],\"Comedy\":[\"Baby's day out\",\"3-idiots\"]}\n",
    "\n",
    "n = input(\"Which Type - Action/Comedy/Sci-Fi : \")\n",
    "for i in movie_collc.keys():\n",
    "    if(i == n):\n",
    "        print(movie_collc[n])"
   ]
  },
  {
   "cell_type": "code",
   "execution_count": null,
   "metadata": {},
   "outputs": [],
   "source": []
  }
 ]
}