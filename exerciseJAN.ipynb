{
 "metadata": {
  "language_info": {
   "codemirror_mode": {
    "name": "ipython",
    "version": 3
   },
   "file_extension": ".py",
   "mimetype": "text/x-python",
   "name": "python",
   "nbconvert_exporter": "python",
   "pygments_lexer": "ipython3",
   "version": "3.8.5-final"
  },
  "orig_nbformat": 2,
  "kernelspec": {
   "name": "python3",
   "display_name": "Python 3",
   "language": "python"
  }
 },
 "nbformat": 4,
 "nbformat_minor": 2,
 "cells": [
  {
   "cell_type": "code",
   "execution_count": 34,
   "metadata": {},
   "outputs": [
    {
     "output_type": "stream",
     "name": "stdout",
     "text": [
      "1\n1\n1\n1\n1\n"
     ]
    }
   ],
   "source": [
    "def fibnoci():\n",
    "    n = 1\n",
    "    for i in range(5):\n",
    "        print(n)\n",
    "    \n",
    "fibnoci()"
   ]
  },
  {
   "cell_type": "code",
   "execution_count": 39,
   "metadata": {},
   "outputs": [
    {
     "output_type": "stream",
     "name": "stdout",
     "text": [
      "1 / 26 / 2021\n10 : 23 : 45\ntime since 01/;01/2021 :  26  Days  10 / 23 / 45\n"
     ]
    }
   ],
   "source": [
    "def time_forever(m,d,y,hr,mn,sc):\n",
    "    print(m,\"/\",d,\"/\",y)\n",
    "    print(hr,\":\",mn,\":\",sc)\n",
    "    print(\"time since 01/;01/2021 : \",d,\" Days \",hr,\"/\",mn,\"/\",sc)\n",
    "time_forever(1,26,2021,10,23,45)"
   ]
  },
  {
   "cell_type": "code",
   "execution_count": null,
   "metadata": {},
   "outputs": [],
   "source": []
  }
 ]
}